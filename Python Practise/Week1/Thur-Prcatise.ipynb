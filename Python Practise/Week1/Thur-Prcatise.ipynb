{
 "cells": [
  {
   "cell_type": "markdown",
   "metadata": {},
   "source": [
    "SOLVED ANSWERS"
   ]
  },
  {
   "cell_type": "markdown",
   "metadata": {},
   "source": [
    "Find the given output from the input list1=[1,2,2,3,3,3,4,4,4,4,4,5,5,5,5,5] -->Output={1:1,2:2,3:3,4:4.5:5}"
   ]
  },
  {
   "cell_type": "code",
   "execution_count": 3,
   "metadata": {},
   "outputs": [
    {
     "name": "stdout",
     "output_type": "stream",
     "text": [
      "{1: 1, 2: 2, 3: 3, 4: 5, 5: 5}\n"
     ]
    }
   ],
   "source": [
    "list1=[1,2,2,3,3,3,4,4,4,4,4,5,5,5,5,5] \n",
    "count={}\n",
    "for i in list1:\n",
    "    if i in count:\n",
    "        count[i]+=1\n",
    "    else:\n",
    "        count[i]=1\n",
    "print(count)"
   ]
  },
  {
   "cell_type": "markdown",
   "metadata": {},
   "source": [
    "Create a csv file with following content and\n",
    "Read the CSV file and print only those rows that has level = Good - 8 Language,level Python,Good Sql,Intermediate Angular,Basics"
   ]
  },
  {
   "cell_type": "code",
   "execution_count": 42,
   "metadata": {},
   "outputs": [],
   "source": [
    "import csv\n",
    "\n",
    "header=[\"language\",\"level\"]\n",
    "rows=[[\"Python\",\"Good\"],[\"SQL\",\"Intermediate\"],[\"Angular\",\"Basics\"]]\n",
    "with open('demo.txt','w') as f:\n",
    "    a=csv.writer(f)\n",
    "    a.writerow(header)\n",
    "    a.writerows(rows)"
   ]
  },
  {
   "cell_type": "code",
   "execution_count": 47,
   "metadata": {},
   "outputs": [
    {
     "name": "stdout",
     "output_type": "stream",
     "text": [
      "{'language': 'Python', 'level': 'Good'}\n"
     ]
    }
   ],
   "source": [
    "with open('demo.txt','r') as f:\n",
    "    b=csv.DictReader(f)\n",
    "    for row in b:\n",
    "        if row['level']=='Good':\n",
    "            print(row)"
   ]
  },
  {
   "cell_type": "markdown",
   "metadata": {},
   "source": [
    "Python Program to create new Dictionary from the Multiple list using list comprehension - 10 names = ['Harry', 'Hermione', 'Ron'] houses = ['Gryffindor', 'Gryffindor', 'Gryffindor'] pets = ['Hedwig', 'Crookshanks', 'Scabbers'] wands = ['Holly, phoenix feather', 'Vine wood, dragon heartstring', 'Willow, unicorn hair']\n",
    "\n",
    "-->output  \n",
    "{\n",
    "'Harry': {\n",
    "\t'house': 'Gryffindor',\n",
    "\t'pet': 'Hedwig',\n",
    "\t'wand': 'Holly, phoenix feather'},\n",
    "'Hermione': {\n",
    "\t'house': 'Gryffindor',\n",
    "\t'pet': 'Crookshanks',\n",
    "\t'wand': 'Vine wood, dragon heartstring'},\n",
    "'Ron': {\n",
    "\t'house': 'Gryffindor',\n",
    "\t'pet': 'Scabbers',\n",
    "\t'wand': 'Willow, unicorn hair'}\n",
    "}"
   ]
  },
  {
   "cell_type": "code",
   "execution_count": 38,
   "metadata": {},
   "outputs": [],
   "source": [
    "names = ['Harry', 'Hermione', 'Ron']\n",
    "houses = ['Gryffindor', 'Gryffindor', 'Gryffindor']\n",
    "pets = ['Hedwig', 'Crookshanks', 'Scabbers']\n",
    "wands = ['Holly, phoenix feather', 'Vine wood, dragon heartstring', 'Willow, unicorn hair']\n",
    "res={name:{'house':house,'pet':pet,'wand':wand} for name,house,pet,wand in zip(names,houses,pets,wands)}"
   ]
  },
  {
   "cell_type": "code",
   "execution_count": 39,
   "metadata": {},
   "outputs": [
    {
     "name": "stdout",
     "output_type": "stream",
     "text": [
      "{'Harry': {'house': 'Gryffindor', 'pet': 'Hedwig', 'wand': 'Holly, phoenix feather'}, 'Hermione': {'house': 'Gryffindor', 'pet': 'Crookshanks', 'wand': 'Vine wood, dragon heartstring'}, 'Ron': {'house': 'Gryffindor', 'pet': 'Scabbers', 'wand': 'Willow, unicorn hair'}}\n"
     ]
    }
   ],
   "source": [
    "print(res)"
   ]
  },
  {
   "cell_type": "markdown",
   "metadata": {},
   "source": [
    "TASK"
   ]
  },
  {
   "cell_type": "code",
   "execution_count": 2,
   "metadata": {},
   "outputs": [],
   "source": [
    "import json"
   ]
  },
  {
   "cell_type": "code",
   "execution_count": 3,
   "metadata": {},
   "outputs": [
    {
     "name": "stdout",
     "output_type": "stream",
     "text": [
      "['saravana', 'kumar', 'Jane', 'vijay', 'raji', 'priya', 'revanth', 'azees', 'siva', 'arjun', 'dhivya']\n"
     ]
    }
   ],
   "source": [
    "list_customers=[]\n",
    "with open(\"datas.json\",\"r\") as f:\n",
    "    data=json.load(f)\n",
    "    for i in data['customers']:\n",
    "        list_customers.append(i['first_name'])\n",
    "    print(list_customers)"
   ]
  },
  {
   "cell_type": "code",
   "execution_count": 4,
   "metadata": {},
   "outputs": [
    {
     "name": "stdout",
     "output_type": "stream",
     "text": [
      "['saravana', 'Jane']\n"
     ]
    }
   ],
   "source": [
    "Chennai_customer=[]\n",
    "for i in data['customers']:\n",
    "    if (i[\"Address\"][0]==\"chennai\"):\n",
    "        Chennai_customer.append(i[\"first_name\"])\n",
    "print(Chennai_customer)"
   ]
  },
  {
   "cell_type": "code",
   "execution_count": 30,
   "metadata": {},
   "outputs": [
    {
     "name": "stdout",
     "output_type": "stream",
     "text": [
      "['azees', 'siva', 'arjun', 'dhivya']\n"
     ]
    }
   ],
   "source": [
    "Balance=[]\n",
    "for i in data['customers']:\n",
    "    if(int(i['Balance'])>20000):\n",
    "        Balance.append(i[\"first_name\"])\n",
    "print(Balance)"
   ]
  },
  {
   "cell_type": "code",
   "execution_count": 33,
   "metadata": {},
   "outputs": [
    {
     "name": "stdout",
     "output_type": "stream",
     "text": [
      "['saravana', 'kumar', 'Jane', 'vijay', 'raji', 'priya', 'revanth', 'azees', 'siva', 'arjun', 'dhivya']\n"
     ]
    }
   ],
   "source": [
    "customer_name=[i['first_name'] for i in data['customers']]\n",
    "print(customer_name)"
   ]
  },
  {
   "cell_type": "code",
   "execution_count": 34,
   "metadata": {},
   "outputs": [
    {
     "name": "stdout",
     "output_type": "stream",
     "text": [
      "['saravana', 'Jane']\n"
     ]
    }
   ],
   "source": [
    "city=[i['first_name'] for i in data['customers'] if i[\"Address\"][0]==\"chennai\"]\n",
    "print(city)"
   ]
  },
  {
   "cell_type": "code",
   "execution_count": 35,
   "metadata": {},
   "outputs": [
    {
     "name": "stdout",
     "output_type": "stream",
     "text": [
      "['azees', 'siva', 'arjun', 'dhivya']\n"
     ]
    }
   ],
   "source": [
    "balance=[i[\"first_name\"] for i in data['customers'] if int(i[\"Balance\"])>20000 ]\n",
    "print(balance)"
   ]
  },
  {
   "cell_type": "code",
   "execution_count": 40,
   "metadata": {},
   "outputs": [
    {
     "data": {
      "text/plain": [
       "{'a': 2, 'b': 4, 'c': 6, 'd': 8, 'e': 10}"
      ]
     },
     "execution_count": 40,
     "metadata": {},
     "output_type": "execute_result"
    }
   ],
   "source": [
    "dict1 = {'a': 1, 'b': 2, 'c': 3, 'd': 4, 'e': 5}\n",
    "dict2=dict1.keys()\n",
    "a={i*2 for i in dict1.values() }\n",
    "dict(zip(dict2,a))\n"
   ]
  },
  {
   "cell_type": "code",
   "execution_count": null,
   "metadata": {},
   "outputs": [],
   "source": []
  }
 ],
 "metadata": {
  "kernelspec": {
   "display_name": "Python 3",
   "language": "python",
   "name": "python3"
  },
  "language_info": {
   "codemirror_mode": {
    "name": "ipython",
    "version": 3
   },
   "file_extension": ".py",
   "mimetype": "text/x-python",
   "name": "python",
   "nbconvert_exporter": "python",
   "pygments_lexer": "ipython3",
   "version": "3.12.0"
  }
 },
 "nbformat": 4,
 "nbformat_minor": 2
}
