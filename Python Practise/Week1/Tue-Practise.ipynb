{
 "cells": [
  {
   "cell_type": "markdown",
   "metadata": {},
   "source": [
    "COPY"
   ]
  },
  {
   "cell_type": "code",
   "execution_count": 5,
   "metadata": {},
   "outputs": [
    {
     "name": "stdout",
     "output_type": "stream",
     "text": [
      "[1, 2, 3, 4]\n"
     ]
    }
   ],
   "source": [
    "lst3=[1,2,3,4]\n",
    "lst4=lst3.copy()\n",
    "print(lst4)"
   ]
  },
  {
   "cell_type": "code",
   "execution_count": 6,
   "metadata": {},
   "outputs": [
    {
     "name": "stdout",
     "output_type": "stream",
     "text": [
      "[1, 2, 3, 66, 4]\n",
      "[1, 2, 3, 4]\n"
     ]
    }
   ],
   "source": [
    "lst3.insert(3,66)\n",
    "print(lst3)\n",
    "print(lst4)"
   ]
  },
  {
   "cell_type": "code",
   "execution_count": 12,
   "metadata": {},
   "outputs": [
    {
     "name": "stdout",
     "output_type": "stream",
     "text": [
      "[1, 2, 3]\n"
     ]
    }
   ],
   "source": [
    "a=[1,2,3]\n",
    "b=a\n",
    "print(b)"
   ]
  },
  {
   "cell_type": "code",
   "execution_count": 13,
   "metadata": {},
   "outputs": [],
   "source": [
    "a.append([1,2,3])\n"
   ]
  },
  {
   "cell_type": "code",
   "execution_count": 14,
   "metadata": {},
   "outputs": [
    {
     "name": "stdout",
     "output_type": "stream",
     "text": [
      "[1, 2, 3, [1, 2, 3]]\n",
      "[1, 2, 3, [1, 2, 3]]\n"
     ]
    }
   ],
   "source": [
    "print(a)\n",
    "print(b)"
   ]
  },
  {
   "cell_type": "code",
   "execution_count": 17,
   "metadata": {},
   "outputs": [],
   "source": [
    "a=[1,2,3,[1,2,3]]\n",
    "b=a.copy()"
   ]
  },
  {
   "cell_type": "code",
   "execution_count": 18,
   "metadata": {},
   "outputs": [
    {
     "data": {
      "text/plain": [
       "[1, 2, 3, [1, 2, 3]]"
      ]
     },
     "execution_count": 18,
     "metadata": {},
     "output_type": "execute_result"
    }
   ],
   "source": [
    "b"
   ]
  },
  {
   "cell_type": "code",
   "execution_count": 19,
   "metadata": {},
   "outputs": [
    {
     "name": "stdout",
     "output_type": "stream",
     "text": [
      "[1, 2, 3, 4, [1, 2, 3]]\n",
      "[1, 2, 3, [1, 2, 3]]\n"
     ]
    }
   ],
   "source": [
    "a.insert(3,4)\n",
    "print(a)\n",
    "print(b)"
   ]
  },
  {
   "cell_type": "code",
   "execution_count": 20,
   "metadata": {},
   "outputs": [
    {
     "name": "stdout",
     "output_type": "stream",
     "text": [
      "[1, 2, 3, [1, 5, 3]]\n",
      "[1, 2, 3, 4, [1, 5, 3]]\n"
     ]
    }
   ],
   "source": [
    "b[3][1]=5\n",
    "print(b)\n",
    "print(a)"
   ]
  },
  {
   "cell_type": "code",
   "execution_count": 23,
   "metadata": {},
   "outputs": [
    {
     "name": "stdout",
     "output_type": "stream",
     "text": [
      "[1, 2, 3, 4, [1, 5, 6]]\n",
      "[1, 2, 3, [1, 5, 6]]\n"
     ]
    }
   ],
   "source": [
    "a[4][2]=6\n",
    "print(a)\n",
    "print(b)\n",
    "\n"
   ]
  },
  {
   "cell_type": "markdown",
   "metadata": {},
   "source": [
    "DEEPCOPY"
   ]
  },
  {
   "cell_type": "code",
   "execution_count": 2,
   "metadata": {},
   "outputs": [],
   "source": [
    "from copy import deepcopy"
   ]
  },
  {
   "cell_type": "code",
   "execution_count": 3,
   "metadata": {},
   "outputs": [
    {
     "name": "stdout",
     "output_type": "stream",
     "text": [
      "[1, 2, 3, 4]\n"
     ]
    }
   ],
   "source": [
    "lst1=[1,2,3,4]\n",
    "lst2=deepcopy(lst1)\n",
    "print(lst2)"
   ]
  },
  {
   "cell_type": "code",
   "execution_count": 4,
   "metadata": {},
   "outputs": [
    {
     "name": "stdout",
     "output_type": "stream",
     "text": [
      "[1, 2, 5, 3, 4]\n",
      "[1, 2, 3, 4]\n"
     ]
    }
   ],
   "source": [
    "lst1.insert(2,5)\n",
    "print(lst1)\n",
    "print(lst2)"
   ]
  },
  {
   "cell_type": "markdown",
   "metadata": {},
   "source": [
    "COMPREHENSION"
   ]
  },
  {
   "cell_type": "code",
   "execution_count": 30,
   "metadata": {},
   "outputs": [
    {
     "name": "stdout",
     "output_type": "stream",
     "text": [
      "A@gmail.com\n",
      "B@gmail.com\n",
      "C@gmail.com\n"
     ]
    }
   ],
   "source": [
    "users=[\"A\",\"B\",\"C\"]\n",
    "domain=\"gmail.com\"\n",
    "x=[i+\"@\"+domain for i in users]\n",
    "for i in x:\n",
    "    print(i)\n"
   ]
  },
  {
   "cell_type": "markdown",
   "metadata": {},
   "source": [
    "1 to 1000 print the numbers that have 3 in it"
   ]
  },
  {
   "cell_type": "code",
   "execution_count": 31,
   "metadata": {},
   "outputs": [
    {
     "name": "stdout",
     "output_type": "stream",
     "text": [
      "[3, 13, 23, 33, 43, 53, 63, 73, 83, 93, 103, 113, 123, 133, 143, 153, 163, 173, 183, 193, 203, 213, 223, 233, 243, 253, 263, 273, 283, 293, 303, 313, 323, 333, 343, 353, 363, 373, 383, 393, 403, 413, 423, 433, 443, 453, 463, 473, 483, 493, 503, 513, 523, 533, 543, 553, 563, 573, 583, 593, 603, 613, 623, 633, 643, 653, 663, 673, 683, 693, 703, 713, 723, 733, 743, 753, 763, 773, 783, 793, 803, 813, 823, 833, 843, 853, 863, 873, 883, 893, 903, 913, 923, 933, 943, 953, 963, 973, 983, 993]\n"
     ]
    }
   ],
   "source": [
    "res=[i for i in range(3,1000,10)]\n",
    "print(res)"
   ]
  },
  {
   "cell_type": "code",
   "execution_count": 34,
   "metadata": {},
   "outputs": [
    {
     "name": "stdout",
     "output_type": "stream",
     "text": [
      "[3, 13, 23, 30, 31, 32, 33, 34, 35, 36, 37, 38, 39, 43, 53, 63, 73, 83, 93, 103, 113, 123, 130, 131, 132, 133, 134, 135, 136, 137, 138, 139, 143, 153, 163, 173, 183, 193, 203, 213, 223, 230, 231, 232, 233, 234, 235, 236, 237, 238, 239, 243, 253, 263, 273, 283, 293, 300, 301, 302, 303, 304, 305, 306, 307, 308, 309, 310, 311, 312, 313, 314, 315, 316, 317, 318, 319, 320, 321, 322, 323, 324, 325, 326, 327, 328, 329, 330, 331, 332, 333, 334, 335, 336, 337, 338, 339, 340, 341, 342, 343, 344, 345, 346, 347, 348, 349, 350, 351, 352, 353, 354, 355, 356, 357, 358, 359, 360, 361, 362, 363, 364, 365, 366, 367, 368, 369, 370, 371, 372, 373, 374, 375, 376, 377, 378, 379, 380, 381, 382, 383, 384, 385, 386, 387, 388, 389, 390, 391, 392, 393, 394, 395, 396, 397, 398, 399, 403, 413, 423, 430, 431, 432, 433, 434, 435, 436, 437, 438, 439, 443, 453, 463, 473, 483, 493, 503, 513, 523, 530, 531, 532, 533, 534, 535, 536, 537, 538, 539, 543, 553, 563, 573, 583, 593, 603, 613, 623, 630, 631, 632, 633, 634, 635, 636, 637, 638, 639, 643, 653, 663, 673, 683, 693, 703, 713, 723, 730, 731, 732, 733, 734, 735, 736, 737, 738, 739, 743, 753, 763, 773, 783, 793, 803, 813, 823, 830, 831, 832, 833, 834, 835, 836, 837, 838, 839, 843, 853, 863, 873, 883, 893, 903, 913, 923, 930, 931, 932, 933, 934, 935, 936, 937, 938, 939, 943, 953, 963, 973, 983, 993]\n"
     ]
    }
   ],
   "source": [
    "res=[i for i in range(1,1000) if '3' in str(i)]\n",
    "print(res)\n"
   ]
  },
  {
   "cell_type": "markdown",
   "metadata": {},
   "source": [
    "FILE HANDLING"
   ]
  },
  {
   "cell_type": "markdown",
   "metadata": {},
   "source": [
    "READ MODE"
   ]
  },
  {
   "cell_type": "code",
   "execution_count": 41,
   "metadata": {},
   "outputs": [
    {
     "name": "stdout",
     "output_type": "stream",
     "text": [
      "Name:Swetha\n",
      "Designation:Software Engineer Trainee\n",
      "Company Name:BUSOFT Tech\n",
      "Experience:1 year\n",
      "Skill Set:Python,HTML,CSS,JavaScript,SQL\n"
     ]
    }
   ],
   "source": [
    "with open(\"BU.txt\",\"r\") as file:\n",
    "    print(file.read())"
   ]
  },
  {
   "cell_type": "code",
   "execution_count": 43,
   "metadata": {},
   "outputs": [
    {
     "name": "stdout",
     "output_type": "stream",
     "text": [
      "Name:Swetha\n",
      "\n"
     ]
    }
   ],
   "source": [
    "with open(\"BU.txt\",\"r\") as file:\n",
    "    print(file.readline())"
   ]
  },
  {
   "cell_type": "code",
   "execution_count": 44,
   "metadata": {},
   "outputs": [
    {
     "name": "stdout",
     "output_type": "stream",
     "text": [
      "['Name:Swetha\\n', 'Designation:Software Engineer Trainee\\n', 'Company Name:BUSOFT Tech\\n', 'Experience:1 year\\n', 'Skill Set:Python,HTML,CSS,JavaScript,SQL']\n"
     ]
    }
   ],
   "source": [
    "with open(\"BU.txt\",\"r\") as file:\n",
    "    print(file.readlines())"
   ]
  },
  {
   "cell_type": "markdown",
   "metadata": {},
   "source": [
    "WRITE MODE"
   ]
  },
  {
   "cell_type": "code",
   "execution_count": 46,
   "metadata": {},
   "outputs": [],
   "source": [
    "with open(\"BU.txt\",\"w\") as f:\n",
    "    details=\"Swetha Srinivasan\"\n",
    "    f.write(details)"
   ]
  },
  {
   "cell_type": "code",
   "execution_count": 47,
   "metadata": {},
   "outputs": [
    {
     "name": "stdout",
     "output_type": "stream",
     "text": [
      "Swetha Srinivasan\n"
     ]
    }
   ],
   "source": [
    "with open(\"BU.txt\",\"r\") as file:\n",
    "    print(file.read())"
   ]
  },
  {
   "cell_type": "code",
   "execution_count": 60,
   "metadata": {},
   "outputs": [],
   "source": [
    "with open(\"BU.txt\",\"w\") as file:\n",
    "    file.writelines([\"My name is Swetha\\n\",\"I'm 21 years old\\n\",\"I'm from Chennai\\n\"])\n",
    "  "
   ]
  },
  {
   "cell_type": "markdown",
   "metadata": {},
   "source": [
    "APPEND MODE"
   ]
  },
  {
   "cell_type": "code",
   "execution_count": 64,
   "metadata": {},
   "outputs": [],
   "source": [
    "with open(\"BU.txt\",\"a\") as file:\n",
    "    file.write(\"I love RX100\")"
   ]
  },
  {
   "cell_type": "code",
   "execution_count": 65,
   "metadata": {},
   "outputs": [],
   "source": [
    "with open(\"BU.txt\",\"a\") as file:\n",
    "    file.writelines([\"\\nMy name is Swetha\\n\",\"I'm 21 years old\\n\",\"I'm from Chennai\\n\"])"
   ]
  },
  {
   "cell_type": "markdown",
   "metadata": {},
   "source": [
    "OS MODULE"
   ]
  },
  {
   "cell_type": "code",
   "execution_count": 76,
   "metadata": {},
   "outputs": [],
   "source": [
    "import os"
   ]
  },
  {
   "cell_type": "markdown",
   "metadata": {},
   "source": [
    "LISTDIR- normal showcase implementation"
   ]
  },
  {
   "cell_type": "code",
   "execution_count": 71,
   "metadata": {},
   "outputs": [
    {
     "name": "stdout",
     "output_type": "stream",
     "text": [
      "BeyondUniverse-main\n",
      "demo.txt\n",
      "My-Work\n",
      "requirements.txt\n",
      "TEST\n",
      "TEST-Swetha.zip\n",
      "Test1\n",
      "venv\n"
     ]
    }
   ],
   "source": [
    "for entry in os.listdir('C://Users/swetha.s/Desktop/Python/'):\n",
    "    print(entry)"
   ]
  },
  {
   "cell_type": "markdown",
   "metadata": {},
   "source": [
    "SCANDIR- normal showcase implementation"
   ]
  },
  {
   "cell_type": "code",
   "execution_count": 74,
   "metadata": {},
   "outputs": [
    {
     "name": "stdout",
     "output_type": "stream",
     "text": [
      "BeyondUniverse-main\n",
      "demo.txt\n",
      "My-Work\n",
      "requirements.txt\n",
      "TEST\n",
      "TEST-Swetha.zip\n",
      "Test1\n",
      "venv\n"
     ]
    }
   ],
   "source": [
    "with os.scandir(\"C://Users/swetha.s/Desktop/Python/\") as entry:\n",
    "    for i in entry:\n",
    "        print(i.name)"
   ]
  },
  {
   "cell_type": "markdown",
   "metadata": {},
   "source": [
    "To check the path is a directory or a file using listdir"
   ]
  },
  {
   "cell_type": "code",
   "execution_count": 78,
   "metadata": {},
   "outputs": [
    {
     "name": "stdout",
     "output_type": "stream",
     "text": [
      "Directory\n",
      "File\n",
      "Directory\n",
      "File\n",
      "Directory\n",
      "File\n",
      "Directory\n",
      "Directory\n"
     ]
    }
   ],
   "source": [
    "for entry in os.listdir('C://Users/swetha.s/Desktop/Python/'):\n",
    "    if os.path.isdir(os.path.join(\"C://Users/swetha.s/Desktop/Python/\",entry)):\n",
    "        print(\"Directory\")\n",
    "    elif os.path.isfile(os.path.join(\"C://Users/swetha.s/Desktop/Python/\",entry)):\n",
    "        print(\"File\")\n",
    "    else:\n",
    "        print(\"Something else\")"
   ]
  },
  {
   "cell_type": "markdown",
   "metadata": {},
   "source": [
    "Now list the sub directories"
   ]
  },
  {
   "cell_type": "code",
   "execution_count": 80,
   "metadata": {},
   "outputs": [
    {
     "name": "stdout",
     "output_type": "stream",
     "text": [
      "C://Users/swetha.s/Desktop/Python/BeyondUniverse-main\n",
      "1_day\n",
      "2_Day\n",
      "3_day\n",
      "4_day\n",
      "5_day\n",
      "Extras\n",
      "README.md\n",
      "requirements.txt\n",
      "week_1\n",
      "week_2\n",
      "week_3\n",
      "C://Users/swetha.s/Desktop/Python/My-Work\n",
      "Day-3\n",
      "Day-4\n",
      "Day-5\n",
      "Day-6\n",
      "Day-7\n",
      "Day-8\n",
      "Day_1\n",
      "Day_2\n",
      "Task\n",
      "C://Users/swetha.s/Desktop/Python/TEST\n",
      "my_peronal_details.json\n",
      "PersonalDetails.ipynb\n",
      "Python Test.txt\n",
      "C://Users/swetha.s/Desktop/Python/Test1\n",
      "Swetha.ipynb\n",
      "C://Users/swetha.s/Desktop/Python/venv\n",
      "Include\n",
      "Lib\n",
      "pyvenv.cfg\n",
      "Scripts\n",
      "share\n"
     ]
    }
   ],
   "source": [
    "for entry in os.listdir('C://Users/swetha.s/Desktop/Python/'):\n",
    "    if os.path.isdir(os.path.join(\"C://Users/swetha.s/Desktop/Python/\",entry)):\n",
    "        b=os.path.join(\"C://Users/swetha.s/Desktop/Python/\",entry)\n",
    "        print(b)\n",
    "        for i in os.listdir(b):\n",
    "            print(i)"
   ]
  },
  {
   "cell_type": "markdown",
   "metadata": {},
   "source": [
    "To check the documents in the path is directory or a file using scandir"
   ]
  },
  {
   "cell_type": "code",
   "execution_count": 86,
   "metadata": {},
   "outputs": [
    {
     "name": "stdout",
     "output_type": "stream",
     "text": [
      "Directory\n",
      "File\n",
      "Directory\n",
      "File\n",
      "Directory\n",
      "File\n",
      "Directory\n",
      "Directory\n"
     ]
    }
   ],
   "source": [
    "with os.scandir('C://Users/swetha.s/Desktop/Python/') as entry:\n",
    "    for e in entry:\n",
    "        if e.is_dir():\n",
    "            print(\"Directory\")\n",
    "        elif e.is_file():\n",
    "            print(\"File\")\n",
    "        else:\n",
    "            print()"
   ]
  },
  {
   "cell_type": "markdown",
   "metadata": {},
   "source": [
    "Now listing the sub directories"
   ]
  },
  {
   "cell_type": "code",
   "execution_count": 91,
   "metadata": {},
   "outputs": [
    {
     "name": "stdout",
     "output_type": "stream",
     "text": [
      "1_day\n",
      "2_Day\n",
      "3_day\n",
      "4_day\n",
      "5_day\n",
      "Extras\n",
      "README.md\n",
      "requirements.txt\n",
      "week_1\n",
      "week_2\n",
      "week_3\n",
      "Day-3\n",
      "Day-4\n",
      "Day-5\n",
      "Day-6\n",
      "Day-7\n",
      "Day-8\n",
      "Day_1\n",
      "Day_2\n",
      "Task\n",
      "my_peronal_details.json\n",
      "PersonalDetails.ipynb\n",
      "Python Test.txt\n",
      "Swetha.ipynb\n",
      "Include\n",
      "Lib\n",
      "pyvenv.cfg\n",
      "Scripts\n",
      "share\n"
     ]
    }
   ],
   "source": [
    "b=\"C://Users/swetha.s/Desktop/Python/\"\n",
    "with os.scandir(\"C://Users/swetha.s/Desktop/Python/\") as base:\n",
    "    for entry in base:\n",
    "        if entry.is_dir():\n",
    "            b1=os.path.join(b,entry)\n",
    "            with os.scandir(b1) as b2:\n",
    "                for i in b2:\n",
    "                    print(i.name)"
   ]
  },
  {
   "cell_type": "markdown",
   "metadata": {},
   "source": [
    "mkdir and makedirs"
   ]
  },
  {
   "cell_type": "code",
   "execution_count": 2,
   "metadata": {},
   "outputs": [],
   "source": [
    "import os"
   ]
  },
  {
   "cell_type": "markdown",
   "metadata": {},
   "source": [
    "makedirs is used to create the directories inside that a sub-directory, inside that another sub-directory"
   ]
  },
  {
   "cell_type": "code",
   "execution_count": 10,
   "metadata": {},
   "outputs": [],
   "source": [
    "os.makedirs(\"C://Users/swetha.s/Desktop/sample/fol1/fol2\")"
   ]
  },
  {
   "cell_type": "markdown",
   "metadata": {},
   "source": [
    "mkdir is used to create a single directory"
   ]
  },
  {
   "cell_type": "code",
   "execution_count": 5,
   "metadata": {},
   "outputs": [],
   "source": [
    "os.mkdir(\"C://Users/swetha.s/Desktop/Dir\")"
   ]
  },
  {
   "cell_type": "markdown",
   "metadata": {},
   "source": [
    "Using loop we can create multipe directories into that single directory"
   ]
  },
  {
   "cell_type": "code",
   "execution_count": 9,
   "metadata": {},
   "outputs": [],
   "source": [
    "list1=[\"sample1\",\"sample2\"]\n",
    "for i in list1:\n",
    "    os.mkdir(\"C://Users/swetha.s/Desktop/Dir/\"+i)"
   ]
  },
  {
   "cell_type": "markdown",
   "metadata": {},
   "source": [
    "startswith"
   ]
  },
  {
   "cell_type": "code",
   "execution_count": 11,
   "metadata": {},
   "outputs": [
    {
     "name": "stdout",
     "output_type": "stream",
     "text": [
      "TEST\n",
      "TEST-Swetha.zip\n"
     ]
    }
   ],
   "source": [
    "for entry in os.listdir(\"C://Users/swetha.s/Desktop/Python/\"):\n",
    "    if entry.startswith(\"TEST\"):\n",
    "        print(entry)"
   ]
  },
  {
   "cell_type": "markdown",
   "metadata": {},
   "source": [
    "endswith"
   ]
  },
  {
   "cell_type": "code",
   "execution_count": 12,
   "metadata": {},
   "outputs": [
    {
     "name": "stdout",
     "output_type": "stream",
     "text": [
      "demo.txt\n",
      "requirements.txt\n"
     ]
    }
   ],
   "source": [
    "for entry in os.listdir(\"C://Users/swetha.s/Desktop/Python/\"):\n",
    "    if entry.endswith(\".txt\"):\n",
    "        print(entry)"
   ]
  },
  {
   "cell_type": "markdown",
   "metadata": {},
   "source": [
    "fnmatch"
   ]
  },
  {
   "cell_type": "code",
   "execution_count": 16,
   "metadata": {},
   "outputs": [
    {
     "name": "stdout",
     "output_type": "stream",
     "text": [
      "demo.txt\n",
      "requirements.txt\n"
     ]
    }
   ],
   "source": [
    "import fnmatch\n",
    "for entry in os.listdir(\"C://Users/swetha.s/Desktop/Python/\"):\n",
    "    if fnmatch.fnmatch(entry,\"*.txt\"):\n",
    "        print(entry)"
   ]
  },
  {
   "cell_type": "code",
   "execution_count": null,
   "metadata": {},
   "outputs": [],
   "source": []
  }
 ],
 "metadata": {
  "kernelspec": {
   "display_name": "Python 3",
   "language": "python",
   "name": "python3"
  },
  "language_info": {
   "codemirror_mode": {
    "name": "ipython",
    "version": 3
   },
   "file_extension": ".py",
   "mimetype": "text/x-python",
   "name": "python",
   "nbconvert_exporter": "python",
   "pygments_lexer": "ipython3",
   "version": "3.12.0"
  }
 },
 "nbformat": 4,
 "nbformat_minor": 2
}
